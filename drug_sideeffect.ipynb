{
  "nbformat": 4,
  "nbformat_minor": 0,
  "metadata": {
    "colab": {
      "provenance": [],
      "toc_visible": true,
      "include_colab_link": true
    },
    "kernelspec": {
      "name": "python3",
      "display_name": "Python 3"
    },
    "language_info": {
      "name": "python"
    }
  },
  "cells": [
    {
      "cell_type": "markdown",
      "metadata": {
        "id": "view-in-github",
        "colab_type": "text"
      },
      "source": [
        "<a href=\"https://colab.research.google.com/github/devngj/Diabetes/blob/main/drug_sideeffect.ipynb\" target=\"_parent\"><img src=\"https://colab.research.google.com/assets/colab-badge.svg\" alt=\"Open In Colab\"/></a>"
      ]
    },
    {
      "cell_type": "markdown",
      "source": [
        "# Preprocessing"
      ],
      "metadata": {
        "id": "uXwZvfcJ9k4l"
      }
    },
    {
      "cell_type": "code",
      "execution_count": null,
      "metadata": {
        "id": "V3BMNeFMHFGs"
      },
      "outputs": [],
      "source": [
        "from sklearn.model_selection import train_test_split\n",
        "from sklearn.tree import DecisionTreeClassifier\n",
        "from sklearn.metrics import classification_report"
      ]
    },
    {
      "cell_type": "code",
      "source": [
        "import pandas as pd\n",
        "import numpy as np"
      ],
      "metadata": {
        "id": "gJz3ad08MXqq"
      },
      "execution_count": null,
      "outputs": []
    },
    {
      "cell_type": "code",
      "source": [
        "from google.colab import drive\n",
        "drive.mount('/content/drive')"
      ],
      "metadata": {
        "colab": {
          "base_uri": "https://localhost:8080/"
        },
        "id": "WHFmr6hKq07d",
        "outputId": "deacc9b7-927d-48d2-9977-dfeb00592836"
      },
      "execution_count": null,
      "outputs": [
        {
          "output_type": "stream",
          "name": "stdout",
          "text": [
            "Drive already mounted at /content/drive; to attempt to forcibly remount, call drive.mount(\"/content/drive\", force_remount=True).\n"
          ]
        }
      ]
    },
    {
      "cell_type": "code",
      "source": [
        "dir_path = '/content/drive/MyDrive/연구지도'\n",
        "drug_se_vector = np.load(dir_path + '/drug_se_vector_dict.npy', allow_pickle=True)\n",
        "id2num = np.load(dir_path + '/id2num.npy', allow_pickle=True)\n",
        "drug_indications = np.load(dir_path + '/drug_indications.npy', allow_pickle=True)\n",
        "t2d_drugs = np.load(dir_path + '/t2d_drugs.npy', allow_pickle=True)"
      ],
      "metadata": {
        "id": "Lpz7SXxbM8zg"
      },
      "execution_count": null,
      "outputs": []
    },
    {
      "cell_type": "code",
      "source": [
        "len(t2d_drugs.item())"
      ],
      "metadata": {
        "colab": {
          "base_uri": "https://localhost:8080/"
        },
        "id": "h42doM6EbOAb",
        "outputId": "2fc42e00-498b-4a32-8575-aa366100ce60"
      },
      "execution_count": null,
      "outputs": [
        {
          "output_type": "execute_result",
          "data": {
            "text/plain": [
              "1045"
            ]
          },
          "metadata": {},
          "execution_count": 7
        }
      ]
    },
    {
      "cell_type": "code",
      "source": [
        "drug_names = pd.read_csv(dir_path + '/drug_names.tsv', delimiter='\\t')\n",
        "symptoms = pd.read_csv(dir_path + '/symptoms.tsv', delimiter='\\t')"
      ],
      "metadata": {
        "id": "ErpRfiJxNTWh"
      },
      "execution_count": null,
      "outputs": []
    },
    {
      "cell_type": "code",
      "source": [
        "answer_list = []\n",
        "for i in drug_se_vector.item().keys():\n",
        "    if i in np.atleast_1d(t2d_drugs)[0]:\n",
        "        answer_list.append(i)\n",
        "\n",
        "len(answer_list)"
      ],
      "metadata": {
        "id": "lMTFAJiHR1Tr",
        "colab": {
          "base_uri": "https://localhost:8080/"
        },
        "outputId": "b144db44-1ccc-44b1-8ae5-632310306a04"
      },
      "execution_count": null,
      "outputs": [
        {
          "output_type": "execute_result",
          "data": {
            "text/plain": [
              "564"
            ]
          },
          "metadata": {},
          "execution_count": 9
        }
      ]
    },
    {
      "cell_type": "code",
      "source": [
        "labels = []\n",
        "for k in drug_se_vector.item().keys():\n",
        "    if k in answer_list:\n",
        "        labels.append(1)\n",
        "    else:\n",
        "        labels.append(0)\n",
        "\n",
        "print(len(answer_list) == sum(labels))\n",
        "print(len(drug_se_vector.item().values()) == len(labels))"
      ],
      "metadata": {
        "id": "511tfGVtEP-P",
        "colab": {
          "base_uri": "https://localhost:8080/"
        },
        "outputId": "1ab9709f-5614-498a-acc6-24a11a325f03"
      },
      "execution_count": null,
      "outputs": [
        {
          "output_type": "stream",
          "name": "stdout",
          "text": [
            "True\n",
            "True\n"
          ]
        }
      ]
    },
    {
      "cell_type": "code",
      "source": [
        "vals = []\n",
        "for i in drug_se_vector.item(0).values():\n",
        "    vals.append(np.array(i))"
      ],
      "metadata": {
        "id": "wDKcLujRM8pZ"
      },
      "execution_count": null,
      "outputs": []
    },
    {
      "cell_type": "code",
      "source": [
        "vals = np.array(vals)"
      ],
      "metadata": {
        "id": "9xKJkmOyNN-m"
      },
      "execution_count": null,
      "outputs": []
    },
    {
      "cell_type": "code",
      "source": [
        "vals"
      ],
      "metadata": {
        "colab": {
          "base_uri": "https://localhost:8080/"
        },
        "id": "AlwcLIkwT8bM",
        "outputId": "35e14755-bd46-4e2a-9053-f3794f771efa"
      },
      "execution_count": null,
      "outputs": [
        {
          "output_type": "execute_result",
          "data": {
            "text/plain": [
              "array([[1, 1, 0, ..., 0, 0, 0],\n",
              "       [0, 1, 0, ..., 0, 0, 0],\n",
              "       [0, 0, 1, ..., 0, 0, 0],\n",
              "       ...,\n",
              "       [1, 0, 0, ..., 0, 0, 0],\n",
              "       [1, 0, 0, ..., 0, 0, 0],\n",
              "       [0, 0, 0, ..., 0, 0, 0]])"
            ]
          },
          "metadata": {},
          "execution_count": 13
        }
      ]
    },
    {
      "cell_type": "markdown",
      "source": [
        "# Existing methods"
      ],
      "metadata": {
        "id": "HDH5J6JB9c_P"
      }
    },
    {
      "cell_type": "code",
      "source": [
        "indices = np.arange(len(vals))\n",
        "(\n",
        "    X_train,\n",
        "    X_test,\n",
        "    y_train,\n",
        "    y_test,\n",
        "    indices_train,\n",
        "    indices_test,\n",
        ") = train_test_split(vals, labels, indices, test_size=0.2)"
      ],
      "metadata": {
        "id": "sW9Hu3-KFtRD"
      },
      "execution_count": null,
      "outputs": []
    },
    {
      "cell_type": "code",
      "source": [
        "from pandas.core.reshape.melt import lreshape\n",
        "from sklearn.ensemble import RandomForestClassifier\n",
        "from sklearn.svm import SVC\n",
        "from sklearn.linear_model import LogisticRegression\n",
        "from sklearn.neural_network import MLPClassifier\n",
        "from sklearn.metrics import roc_curve , roc_auc_score , f1_score , classification_report\n",
        "import matplotlib.pyplot as plt\n",
        "from sklearn import metrics\n",
        "\n",
        "RFclf = RandomForestClassifier().fit(X_train, y_train)\n",
        "SVclf = SVC(probability=True).fit(X_train, y_train)\n",
        "LRclf = LogisticRegression().fit(X_train, y_train)\n",
        "MLPclf = MLPClassifier().fit(X_train, y_train)"
      ],
      "metadata": {
        "id": "n0mAETK6PCjI"
      },
      "execution_count": null,
      "outputs": []
    },
    {
      "cell_type": "code",
      "source": [
        "from tqdm import tqdm\n",
        "RFauc = []\n",
        "RFprc = []\n",
        "SVauc = []\n",
        "SVprc = []\n",
        "LRauc = []\n",
        "LRprc = []\n",
        "MLPauc = []\n",
        "MLPprc = []\n",
        "\n",
        "for _ in tqdm(range(100)):\n",
        "    indices = np.arange(len(vals))\n",
        "    (\n",
        "        X_train,\n",
        "        X_test,\n",
        "        y_train,\n",
        "        y_test,\n",
        "        indices_train,\n",
        "        indices_test,\n",
        "    ) = train_test_split(vals, labels, indices, test_size=0.2)\n",
        "    RFclf = RandomForestClassifier().fit(X_train, y_train)\n",
        "    SVclf = SVC(probability=True).fit(X_train, y_train)\n",
        "    LRclf = LogisticRegression().fit(X_train, y_train)\n",
        "    MLPclf = MLPClassifier().fit(X_train, y_train)\n",
        "\n",
        "    RFauc.append(metrics.roc_auc_score(y_test, RFclf.predict(X_test)))\n",
        "    RFprc.append(metrics.f1_score(y_test, RFclf.predict(X_test)))\n",
        "    SVauc.append(metrics.roc_auc_score(y_test, SVclf.predict(X_test)))\n",
        "    SVprc.append(metrics.f1_score(y_test, SVclf.predict(X_test)))\n",
        "    LRauc.append(metrics.roc_auc_score(y_test, LRclf.predict(X_test)))\n",
        "    LRprc.append(metrics.f1_score(y_test, LRclf.predict(X_test)))\n",
        "    MLPauc.append(metrics.roc_auc_score(y_test, MLPclf.predict(X_test)))\n",
        "    MLPprc.append(metrics.f1_score(y_test, MLPclf.predict(X_test)))"
      ],
      "metadata": {
        "id": "wgJLhGNtjXVY"
      },
      "execution_count": null,
      "outputs": []
    },
    {
      "cell_type": "code",
      "source": [
        "df = pd.DataFrame(columns=['classifier_type', 'AUC_score', 'F1_score'])\n",
        "df['classifier_type'] = ['RF']*100 + ['SV']*100 + ['LR']*100 +['MLP']*100\n",
        "df['AUC_score'] = RFauc + SVauc + LRauc + MLPauc\n",
        "df['F1_score'] = RFprc + SVprc + LRprc + MLPprc\n",
        "\n",
        "import seaborn as sns\n",
        "\n",
        "sns.catplot(x='classifier_type', y='AUC_score',\n",
        "                data=df, kind=\"box\",\n",
        "            height=6, aspect=1.3).set(title='AUC score')\n"
      ],
      "metadata": {
        "colab": {
          "base_uri": "https://localhost:8080/",
          "height": 647
        },
        "id": "LGnips2bn955",
        "outputId": "18b0f3a0-1ee4-49b0-abd5-4b28990d04ee"
      },
      "execution_count": null,
      "outputs": [
        {
          "output_type": "execute_result",
          "data": {
            "text/plain": [
              "<seaborn.axisgrid.FacetGrid at 0x7bc6807fd000>"
            ]
          },
          "metadata": {},
          "execution_count": 89
        },
        {
          "output_type": "display_data",
          "data": {
            "text/plain": [
              "<Figure size 780x600 with 1 Axes>"
            ],
            "image/png": "[encoded data removed]"
          },
          "metadata": {}
        }
      ]
    },
    {
      "cell_type": "code",
      "source": [
        "sns.catplot(x='classifier_type', y='F1_score',\n",
        "                data=df, kind=\"box\",\n",
        "            height=6, aspect=1.3).set(title='F1 score')"
      ],
      "metadata": {
        "colab": {
          "base_uri": "https://localhost:8080/",
          "height": 647
        },
        "id": "iRN89na2qXAr",
        "outputId": "48b90a5d-b2f7-4dc0-9bab-65b9eac8619b"
      },
      "execution_count": null,
      "outputs": [
        {
          "output_type": "execute_result",
          "data": {
            "text/plain": [
              "<seaborn.axisgrid.FacetGrid at 0x7bc68097e9b0>"
            ]
          },
          "metadata": {},
          "execution_count": 90
        },
        {
          "output_type": "display_data",
          "data": {
            "text/plain": [
              "<Figure size 780x600 with 1 Axes>"
            ],
            "image/png": "[encoded data removed]"
          },
          "metadata": {}
        }
      ]
    },
    {
      "cell_type": "code",
      "source": [
        "for clf in [RFclf, SVclf, LRclf, MLPclf]:\n",
        "    pred = clf.predict(X_test)\n",
        "    print(classification_report(pred, y_test))"
      ],
      "metadata": {
        "id": "5XRQCTVlGati",
        "colab": {
          "base_uri": "https://localhost:8080/"
        },
        "outputId": "0a521691-b0ec-42ce-ace0-0e5f582d46a3"
      },
      "execution_count": null,
      "outputs": [
        {
          "output_type": "stream",
          "name": "stdout",
          "text": [
            "              precision    recall  f1-score   support\n",
            "\n",
            "           0       0.55      0.61      0.58        94\n",
            "           1       0.65      0.60      0.62       117\n",
            "\n",
            "    accuracy                           0.60       211\n",
            "   macro avg       0.60      0.60      0.60       211\n",
            "weighted avg       0.61      0.60      0.60       211\n",
            "\n",
            "              precision    recall  f1-score   support\n",
            "\n",
            "           0       0.58      0.59      0.59       101\n",
            "           1       0.62      0.60      0.61       110\n",
            "\n",
            "    accuracy                           0.60       211\n",
            "   macro avg       0.60      0.60      0.60       211\n",
            "weighted avg       0.60      0.60      0.60       211\n",
            "\n",
            "              precision    recall  f1-score   support\n",
            "\n",
            "           0       0.54      0.57      0.55        99\n",
            "           1       0.60      0.57      0.58       112\n",
            "\n",
            "    accuracy                           0.57       211\n",
            "   macro avg       0.57      0.57      0.57       211\n",
            "weighted avg       0.57      0.57      0.57       211\n",
            "\n",
            "              precision    recall  f1-score   support\n",
            "\n",
            "           0       0.49      0.56      0.52        91\n",
            "           1       0.63      0.56      0.59       120\n",
            "\n",
            "    accuracy                           0.56       211\n",
            "   macro avg       0.56      0.56      0.56       211\n",
            "weighted avg       0.57      0.56      0.56       211\n",
            "\n"
          ]
        }
      ]
    },
    {
      "cell_type": "code",
      "source": [
        "probs = pd.DataFrame(RFclf.predict_proba(X_test))"
      ],
      "metadata": {
        "id": "Df80UDsVGTUU"
      },
      "execution_count": null,
      "outputs": []
    },
    {
      "cell_type": "code",
      "source": [
        "probs[1].loc[probs[1] > 0.5].index"
      ],
      "metadata": {
        "id": "AQIseXIFF6Bn",
        "colab": {
          "base_uri": "https://localhost:8080/"
        },
        "outputId": "bd1732a2-85ea-42f1-8b19-59b341ed2fc0"
      },
      "execution_count": null,
      "outputs": [
        {
          "output_type": "execute_result",
          "data": {
            "text/plain": [
              "Int64Index([  1,   2,   3,   4,   5,   8,  11,  12,  13,  15,\n",
              "            ...\n",
              "            192, 196, 201, 202, 203, 204, 206, 207, 208, 210],\n",
              "           dtype='int64', length=117)"
            ]
          },
          "metadata": {},
          "execution_count": 31
        }
      ]
    },
    {
      "cell_type": "code",
      "source": [
        "thres = 0.9\n",
        "indices_test[probs[1].loc[probs[1] > thres].index] # <-- candidate drugs"
      ],
      "metadata": {
        "id": "uUyfhy7yLL6E",
        "colab": {
          "base_uri": "https://localhost:8080/"
        },
        "outputId": "0e3ff1c9-98fe-4d77-8bd2-11f585fe7dc5"
      },
      "execution_count": null,
      "outputs": [
        {
          "output_type": "execute_result",
          "data": {
            "text/plain": [
              "array([800])"
            ]
          },
          "metadata": {},
          "execution_count": 35
        }
      ]
    },
    {
      "cell_type": "code",
      "source": [
        "repurposable = []\n",
        "for i in range(100):\n",
        "    indices = np.arange(len(vals))\n",
        "    (\n",
        "        X_train,\n",
        "        X_test,\n",
        "        y_train,\n",
        "        y_test,\n",
        "        indices_train,\n",
        "        indices_test,\n",
        "    ) = train_test_split(vals, labels, indices, test_size=0.2)\n",
        "    RFclf = RandomForestClassifier().fit(X_train, y_train)\n",
        "    probs = pd.DataFrame(RFclf.predict_proba(X_test))\n",
        "    thres = 0.7\n",
        "    if len(indices_test[probs[1].loc[probs[1] > thres].index]) != 0:\n",
        "        repurposable.append(indices_test[probs[1].loc[probs[1] > thres].index][0]) # <-- candidate drugs\n"
      ],
      "metadata": {
        "id": "A_4FHHckN4Cr"
      },
      "execution_count": null,
      "outputs": []
    },
    {
      "cell_type": "code",
      "source": [
        "idx, count = np.unique(repurposable,return_counts=True)\n",
        "result = []\n",
        "for i in range(len(idx)):\n",
        "    result.append((count[i], idx[i]))"
      ],
      "metadata": {
        "id": "LCF7BxMHRsO0"
      },
      "execution_count": null,
      "outputs": []
    },
    {
      "cell_type": "code",
      "source": [
        "import matplotlib.pyplot as plt\n",
        "from sklearn import metrics\n",
        "\n",
        "fpr, tpr, threshold = metrics.roc_curve(y_test, RFclf.predict(X_test))\n",
        "roc_auc = metrics.auc(fpr, tpr)\n",
        "\n",
        "plt.title('Receiver Operating Characteristic')\n",
        "plt.plot(fpr, tpr, 'b', label = 'AUC = %0.2f' % roc_auc)\n",
        "plt.legend(loc = 'lower right')\n",
        "plt.plot([0, 1], [0, 1],'r--')\n",
        "plt.xlim([0, 1])\n",
        "plt.ylim([0, 1])\n",
        "plt.ylabel('True Positive Rate')\n",
        "plt.xlabel('False Positive Rate')\n",
        "plt.show()"
      ],
      "metadata": {
        "colab": {
          "base_uri": "https://localhost:8080/",
          "height": 472
        },
        "id": "qMwNxO1tkeQI",
        "outputId": "2651f2b3-a006-436f-a623-d26eec9a1527"
      },
      "execution_count": null,
      "outputs": [
        {
          "output_type": "display_data",
          "data": {
            "text/plain": [
              "<Figure size 640x480 with 1 Axes>"
            ],
            "image/png": "[encoded data removed]"
          },
          "metadata": {}
        }
      ]
    },
    {
      "cell_type": "code",
      "source": [
        "precision, recall, thresholds = metrics.precision_recall_curve(y_test, RFclf.predict(X_test))\n",
        "auprc = metrics.average_precision_score(y_test, RFclf.predict(X_test))\n",
        "\n",
        "plt.title('Precision-Recall Curve')\n",
        "plt.plot(recall, precision, 'b', label = 'AUPRC = %0.2f' % auprc)\n",
        "plt.legend(loc = 'lower right')\n",
        "plt.xlim([0, 1])\n",
        "plt.ylim([0, 1])\n",
        "ax.set_ylabel('Precision')\n",
        "ax.set_xlabel('Recall')\n",
        "plt.show()"
      ],
      "metadata": {
        "colab": {
          "base_uri": "https://localhost:8080/",
          "height": 452
        },
        "id": "GCRJ1VvzACHe",
        "outputId": "2ffeb1b3-8923-441f-ea86-774fe1ae8703"
      },
      "execution_count": null,
      "outputs": [
        {
          "output_type": "display_data",
          "data": {
            "text/plain": [
              "<Figure size 640x480 with 1 Axes>"
            ],
            "image/png": "[encoded data removed]"
          },
          "metadata": {}
        }
      ]
    },
    {
      "cell_type": "code",
      "source": [
        "sorted(result, reverse=True)"
      ],
      "metadata": {
        "colab": {
          "base_uri": "https://localhost:8080/"
        },
        "id": "Chojz84WhqgE",
        "outputId": "bc2e9433-b134-4ebc-e1b1-cd594b490f0d"
      },
      "execution_count": null,
      "outputs": [
        {
          "output_type": "execute_result",
          "data": {
            "text/plain": [
              "[(3, 216),\n",
              " (3, 125),\n",
              " (2, 992),\n",
              " (2, 811),\n",
              " (2, 713),\n",
              " (2, 638),\n",
              " (2, 554),\n",
              " (2, 501),\n",
              " (2, 458),\n",
              " (2, 322),\n",
              " (2, 309),\n",
              " (2, 225),\n",
              " (2, 219),\n",
              " (2, 214),\n",
              " (2, 208),\n",
              " (2, 207),\n",
              " (2, 152),\n",
              " (2, 149),\n",
              " (1, 971),\n",
              " (1, 968),\n",
              " (1, 941),\n",
              " (1, 924),\n",
              " (1, 868),\n",
              " (1, 865),\n",
              " (1, 802),\n",
              " (1, 800),\n",
              " (1, 779),\n",
              " (1, 750),\n",
              " (1, 742),\n",
              " (1, 733),\n",
              " (1, 722),\n",
              " (1, 696),\n",
              " (1, 689),\n",
              " (1, 687),\n",
              " (1, 684),\n",
              " (1, 622),\n",
              " (1, 587),\n",
              " (1, 586),\n",
              " (1, 576),\n",
              " (1, 537),\n",
              " (1, 528),\n",
              " (1, 527),\n",
              " (1, 517),\n",
              " (1, 507),\n",
              " (1, 503),\n",
              " (1, 466),\n",
              " (1, 430),\n",
              " (1, 412),\n",
              " (1, 395),\n",
              " (1, 393),\n",
              " (1, 392),\n",
              " (1, 361),\n",
              " (1, 349),\n",
              " (1, 332),\n",
              " (1, 311),\n",
              " (1, 275),\n",
              " (1, 267),\n",
              " (1, 250),\n",
              " (1, 238),\n",
              " (1, 227),\n",
              " (1, 210),\n",
              " (1, 209),\n",
              " (1, 203),\n",
              " (1, 199),\n",
              " (1, 183),\n",
              " (1, 164),\n",
              " (1, 163),\n",
              " (1, 144),\n",
              " (1, 136),\n",
              " (1, 104),\n",
              " (1, 99),\n",
              " (1, 97),\n",
              " (1, 90),\n",
              " (1, 88),\n",
              " (1, 82),\n",
              " (1, 81),\n",
              " (1, 58),\n",
              " (1, 39),\n",
              " (1, 19),\n",
              " (1, 8)]"
            ]
          },
          "metadata": {},
          "execution_count": 59
        }
      ]
    },
    {
      "cell_type": "code",
      "source": [
        "list(drug_se_vector.item().keys())[992]"
      ],
      "metadata": {
        "colab": {
          "base_uri": "https://localhost:8080/",
          "height": 35
        },
        "id": "jFy81tuYRvXq",
        "outputId": "6118d667-b3da-48e4-e022-9e0c4f5c3bd5"
      },
      "execution_count": null,
      "outputs": [
        {
          "output_type": "execute_result",
          "data": {
            "text/plain": [
              "'DB08269'"
            ],
            "application/vnd.google.colaboratory.intrinsic+json": {
              "type": "string"
            }
          },
          "metadata": {},
          "execution_count": 73
        }
      ]
    },
    {
      "cell_type": "code",
      "source": [],
      "metadata": {
        "id": "glYkOqXob4Rj"
      },
      "execution_count": null,
      "outputs": []
    },
    {
      "cell_type": "markdown",
      "source": [
        "# Novel method"
      ],
      "metadata": {
        "id": "Sw98asBW9Tkr"
      }
    },
    {
      "cell_type": "code",
      "source": [
        "import networkx as nx\n",
        "import matplotlib.pyplot as plt\n",
        "\n",
        "def overlap_percentage(vector1, vector2):\n",
        "    intersection = sum([i & j for i, j in zip(vector1, vector2)])\n",
        "    union = sum([i | j for i, j in zip(vector1, vector2)])\n",
        "\n",
        "    if union == 0:\n",
        "        return 0  # Prevent division by zero if there are no side effects\n",
        "\n",
        "    return intersection / union\n",
        "\n",
        "\n",
        "def create_network(drug_dict, threshold=0.5):\n",
        "    G = nx.Graph()\n",
        "\n",
        "    drugs = list(drug_dict.keys())\n",
        "    for i in range(len(drugs)):\n",
        "        for j in range(i+1, len(drugs)):\n",
        "            drug1 = drugs[i]\n",
        "            drug2 = drugs[j]\n",
        "            overlap = overlap_percentage(drug_dict[drug1], drug_dict[drug2])\n",
        "            if overlap >= threshold:\n",
        "                G.add_edge(drug1, drug2, weight=overlap)\n",
        "\n",
        "    return G\n",
        "\n",
        "# Example usage:\n",
        "drug_dict = drug_se_vector.item()\n",
        "\n",
        "'''for element in drug_se_vector:\n",
        "    drug_dict.update(element)'''\n",
        "\n",
        "G = create_network(drug_dict, threshold=0.0)"
      ],
      "metadata": {
        "id": "f9-xAG0mV5F_"
      },
      "execution_count": null,
      "outputs": []
    },
    {
      "cell_type": "code",
      "source": [
        "import random\n",
        "from collections import Counter\n",
        "from tqdm import tqdm\n",
        "\n",
        "def weighted_random_walk(graph, start_node, num_steps):\n",
        "    current_node = start_node\n",
        "    for _ in range(num_steps):\n",
        "        neighbors = list(graph.neighbors(current_node))\n",
        "        if neighbors:\n",
        "            # Get the weights of the edges to neighbors\n",
        "            weights = [graph[current_node][neighbor].get('weight', 1) for neighbor in neighbors]\n",
        "            # Normalize the weights\n",
        "            total_weight = sum(weights)\n",
        "            probabilities = [weight / total_weight for weight in weights]\n",
        "            # Choose the next node based on the weights\n",
        "            current_node = random.choices(neighbors, probabilities)[0]\n",
        "        else:\n",
        "            break\n",
        "    return current_node\n",
        "\n",
        "\n",
        "def propagation_effect(graph, start_node, num_walks, num_steps):\n",
        "    end_nodes = [weighted_random_walk(graph, start_node, num_steps) for _ in range(num_walks)]\n",
        "    propagation_counts = Counter(end_nodes)\n",
        "\n",
        "    # Creating a vector of counts ordered by node labels\n",
        "    nodes = sorted(graph.nodes())\n",
        "    propagation_vector = [propagation_counts[node]/(num_walks * num_steps) if node in propagation_counts else 0 for node in nodes]\n",
        "\n",
        "    return propagation_vector"
      ],
      "metadata": {
        "id": "W38LiDNIa4b4"
      },
      "execution_count": null,
      "outputs": []
    },
    {
      "cell_type": "code",
      "source": [
        "effect_vectors = []\n",
        "for node in tqdm(sorted(G.nodes)):\n",
        "    start_node = node\n",
        "    num_walks = 100\n",
        "    num_steps = 5\n",
        "    propagation = propagation_effect(G, start_node, num_walks, num_steps)\n",
        "    effect_vectors.append(propagation)"
      ],
      "metadata": {
        "colab": {
          "base_uri": "https://localhost:8080/"
        },
        "id": "4n-e5zyxa6XD",
        "outputId": "ea9fc6f1-4955-4991-9ddc-b94c67a9ba6e"
      },
      "execution_count": null,
      "outputs": [
        {
          "output_type": "stream",
          "name": "stderr",
          "text": [
            "100%|██████████| 1051/1051 [12:05<00:00,  1.45it/s]\n"
          ]
        }
      ]
    },
    {
      "cell_type": "code",
      "source": [
        "np.save(dir_path + '/RW_result.npy', effect_vectors, allow_pickle=True)"
      ],
      "metadata": {
        "id": "aWobf2h7bNT-"
      },
      "execution_count": null,
      "outputs": []
    },
    {
      "cell_type": "code",
      "source": [
        "# evecs = np.load(dir_path + '/RW_result.npy', allow_pickle=True)\n",
        "evecs = effect_vectors"
      ],
      "metadata": {
        "id": "1GejR6-AbVmO"
      },
      "execution_count": null,
      "outputs": []
    },
    {
      "cell_type": "code",
      "source": [
        "new_labels = []\n",
        "for k in sorted(G.nodes):\n",
        "    if k in answer_list:\n",
        "        new_labels.append(1)\n",
        "    else:\n",
        "        new_labels.append(0)\n",
        "\n",
        "print(len(answer_list) == sum(new_labels))\n",
        "print(len(G.nodes) == len(new_labels))"
      ],
      "metadata": {
        "colab": {
          "base_uri": "https://localhost:8080/"
        },
        "id": "XzqceVWKsM0Y",
        "outputId": "b6d422b8-4a3c-411b-b8dc-9a134d2a817b"
      },
      "execution_count": null,
      "outputs": [
        {
          "output_type": "stream",
          "name": "stdout",
          "text": [
            "True\n",
            "True\n"
          ]
        }
      ]
    },
    {
      "cell_type": "code",
      "source": [
        "indices = np.arange(len(evecs))\n",
        "(\n",
        "    X_train,\n",
        "    X_test,\n",
        "    y_train,\n",
        "    y_test,\n",
        "    indices_train,\n",
        "    indices_test,\n",
        ") = train_test_split(evecs, new_labels, indices, test_size=0.2)"
      ],
      "metadata": {
        "id": "wuxksDH-9WNH"
      },
      "execution_count": null,
      "outputs": []
    },
    {
      "cell_type": "code",
      "source": [
        "from pandas.core.reshape.melt import lreshape\n",
        "from sklearn.ensemble import RandomForestClassifier\n",
        "from sklearn.svm import SVC\n",
        "from sklearn.linear_model import LogisticRegression\n",
        "from sklearn.neural_network import MLPClassifier\n",
        "from sklearn.metrics import roc_curve , roc_auc_score , f1_score , classification_report\n",
        "import xgboost as xgb\n",
        "import matplotlib.pyplot as plt\n",
        "from sklearn import metrics"
      ],
      "metadata": {
        "id": "jYHizxpeui8l"
      },
      "execution_count": null,
      "outputs": []
    },
    {
      "cell_type": "code",
      "source": [
        "from tqdm import tqdm\n",
        "import warnings\n",
        "\n",
        "RFauc = []\n",
        "RFprc = []\n",
        "SVauc = []\n",
        "SVprc = []\n",
        "LRauc = []\n",
        "LRprc = []\n",
        "MLPauc = []\n",
        "MLPprc = []\n",
        "XGBauc = []\n",
        "XGBprc = []\n",
        "\n",
        "\n",
        "with warnings.catch_warnings(record=True) as caught_warnings:\n",
        "    for _ in tqdm(range(100)):\n",
        "        indices = np.arange(len(evecs))\n",
        "        (\n",
        "            X_train,\n",
        "            X_test,\n",
        "            y_train,\n",
        "            y_test,\n",
        "            indices_train,\n",
        "            indices_test,\n",
        "        ) = train_test_split(evecs, new_labels, indices, test_size=0.2)\n",
        "\n",
        "        RFclf = RandomForestClassifier().fit(X_train, y_train)\n",
        "        SVclf = SVC(probability=True).fit(X_train, y_train)\n",
        "        LRclf = LogisticRegression().fit(X_train, y_train)\n",
        "        MLPclf = MLPClassifier().fit(X_train, y_train)\n",
        "        XGBclf = xgb.XGBClassifier().fit(X_train, y_train)\n",
        "\n",
        "        RFauc.append(metrics.roc_auc_score(y_test, RFclf.predict(X_test)))\n",
        "        RFprc.append(metrics.f1_score(y_test, RFclf.predict(X_test)))\n",
        "        SVauc.append(metrics.roc_auc_score(y_test, SVclf.predict(X_test)))\n",
        "        SVprc.append(metrics.f1_score(y_test, SVclf.predict(X_test)))\n",
        "        LRauc.append(metrics.roc_auc_score(y_test, LRclf.predict(X_test)))\n",
        "        LRprc.append(metrics.f1_score(y_test, LRclf.predict(X_test)))\n",
        "        MLPauc.append(metrics.roc_auc_score(y_test, MLPclf.predict(X_test)))\n",
        "        MLPprc.append(metrics.f1_score(y_test, MLPclf.predict(X_test)))\n",
        "        XGBauc.append(metrics.roc_auc_score(y_test, XGBclf.predict(X_test)))\n",
        "        XGBprc.append(metrics.f1_score(y_test, XGBclf.predict(X_test)))"
      ],
      "metadata": {
        "colab": {
          "base_uri": "https://localhost:8080/"
        },
        "id": "cwgqJY6Fui8l",
        "outputId": "a0e333c2-afba-4c73-b673-4e72b30a5cdf"
      },
      "execution_count": null,
      "outputs": [
        {
          "output_type": "stream",
          "name": "stderr",
          "text": [
            "100%|██████████| 100/100 [21:46<00:00, 13.06s/it]\n"
          ]
        }
      ]
    },
    {
      "cell_type": "code",
      "source": [
        "df = pd.DataFrame(columns=['classifier_type', 'AUC_score', 'F1_score'])\n",
        "df['classifier_type'] = ['RF']*100 + ['SV']*100 + ['LR']*100 +['MLP']*100 + ['XGB']*100\n",
        "df['AUC_score'] = RFauc + SVauc + LRauc + MLPauc + XGBauc\n",
        "df['F1_score'] = RFprc + SVprc + LRprc + MLPprc + XGBprc\n",
        "\n",
        "import seaborn as sns\n",
        "\n",
        "sns.catplot(x='classifier_type', y='AUC_score',\n",
        "                data=df, kind=\"box\",\n",
        "            height=6, aspect=1.3).set(title='AUC score')\n"
      ],
      "metadata": {
        "colab": {
          "base_uri": "https://localhost:8080/",
          "height": 647
        },
        "outputId": "f3146cfb-016e-4b4d-db3a-f71034d8c274",
        "id": "sBtXyxCyui8l"
      },
      "execution_count": null,
      "outputs": [
        {
          "output_type": "execute_result",
          "data": {
            "text/plain": [
              "<seaborn.axisgrid.FacetGrid at 0x7f03749fe620>"
            ]
          },
          "metadata": {},
          "execution_count": 39
        },
        {
          "output_type": "display_data",
          "data": {
            "text/plain": [
              "<Figure size 780x600 with 1 Axes>"
            ],
            "image/png": "[encoded data removed]"
          },
          "metadata": {}
        }
      ]
    },
    {
      "cell_type": "code",
      "source": [
        "sns.catplot(x='classifier_type', y='F1_score',\n",
        "                data=df, kind=\"box\",\n",
        "            height=6, aspect=1.3).set(title='F1 score')"
      ],
      "metadata": {
        "colab": {
          "base_uri": "https://localhost:8080/",
          "height": 647
        },
        "outputId": "11017f82-63c6-4f2a-eae6-b25de3e44668",
        "id": "H4PQ1H4sui8m"
      },
      "execution_count": null,
      "outputs": [
        {
          "output_type": "execute_result",
          "data": {
            "text/plain": [
              "<seaborn.axisgrid.FacetGrid at 0x7f03749fdff0>"
            ]
          },
          "metadata": {},
          "execution_count": 40
        },
        {
          "output_type": "display_data",
          "data": {
            "text/plain": [
              "<Figure size 780x600 with 1 Axes>"
            ],
            "image/png": "[encoded data removed]"
          },
          "metadata": {}
        }
      ]
    },
    {
      "cell_type": "code",
      "source": [
        "for clf in [RFclf, SVclf, LRclf, MLPclf, XGBclf]:\n",
        "    pred = clf.predict(X_test)\n",
        "    print(classification_report(pred, y_test))"
      ],
      "metadata": {
        "colab": {
          "base_uri": "https://localhost:8080/"
        },
        "outputId": "94be7833-c327-4446-f937-f4dfdb59c95d",
        "id": "S3uZOSo5ui8m"
      },
      "execution_count": null,
      "outputs": [
        {
          "output_type": "stream",
          "name": "stdout",
          "text": [
            "              precision    recall  f1-score   support\n",
            "\n",
            "           0       0.37      0.48      0.42        71\n",
            "           1       0.69      0.59      0.64       140\n",
            "\n",
            "    accuracy                           0.55       211\n",
            "   macro avg       0.53      0.54      0.53       211\n",
            "weighted avg       0.58      0.55      0.56       211\n",
            "\n",
            "              precision    recall  f1-score   support\n",
            "\n",
            "           0       0.20      0.47      0.28        38\n",
            "           1       0.83      0.58      0.68       173\n",
            "\n",
            "    accuracy                           0.56       211\n",
            "   macro avg       0.52      0.53      0.48       211\n",
            "weighted avg       0.72      0.56      0.61       211\n",
            "\n",
            "              precision    recall  f1-score   support\n",
            "\n",
            "           0       0.00      0.00      0.00         0\n",
            "           1       1.00      0.57      0.73       211\n",
            "\n",
            "    accuracy                           0.57       211\n",
            "   macro avg       0.50      0.28      0.36       211\n",
            "weighted avg       1.00      0.57      0.73       211\n",
            "\n",
            "              precision    recall  f1-score   support\n",
            "\n",
            "           0       0.32      0.44      0.37        66\n",
            "           1       0.69      0.57      0.63       145\n",
            "\n",
            "    accuracy                           0.53       211\n",
            "   macro avg       0.51      0.51      0.50       211\n",
            "weighted avg       0.57      0.53      0.55       211\n",
            "\n",
            "              precision    recall  f1-score   support\n",
            "\n",
            "           0       0.44      0.45      0.45        88\n",
            "           1       0.60      0.59      0.59       123\n",
            "\n",
            "    accuracy                           0.53       211\n",
            "   macro avg       0.52      0.52      0.52       211\n",
            "weighted avg       0.53      0.53      0.53       211\n",
            "\n"
          ]
        },
        {
          "output_type": "stream",
          "name": "stderr",
          "text": [
            "/usr/local/lib/python3.10/dist-packages/sklearn/metrics/_classification.py:1344: UndefinedMetricWarning: Recall and F-score are ill-defined and being set to 0.0 in labels with no true samples. Use `zero_division` parameter to control this behavior.\n",
            "  _warn_prf(average, modifier, msg_start, len(result))\n",
            "/usr/local/lib/python3.10/dist-packages/sklearn/metrics/_classification.py:1344: UndefinedMetricWarning: Recall and F-score are ill-defined and being set to 0.0 in labels with no true samples. Use `zero_division` parameter to control this behavior.\n",
            "  _warn_prf(average, modifier, msg_start, len(result))\n",
            "/usr/local/lib/python3.10/dist-packages/sklearn/metrics/_classification.py:1344: UndefinedMetricWarning: Recall and F-score are ill-defined and being set to 0.0 in labels with no true samples. Use `zero_division` parameter to control this behavior.\n",
            "  _warn_prf(average, modifier, msg_start, len(result))\n"
          ]
        }
      ]
    },
    {
      "cell_type": "code",
      "source": [
        "filtered_indices = [index for index, label in zip(indices_train, y_train) if label == 1]\n"
      ],
      "metadata": {
        "id": "OPTmozhE-oeX"
      },
      "execution_count": null,
      "outputs": []
    },
    {
      "cell_type": "code",
      "source": [
        "len([i for i in new_labels if i == 1])"
      ],
      "metadata": {
        "colab": {
          "base_uri": "https://localhost:8080/"
        },
        "id": "H79yN3Z9ER2Z",
        "outputId": "54fb38a1-8a58-46af-e6b9-9369b38588d2"
      },
      "execution_count": null,
      "outputs": [
        {
          "output_type": "execute_result",
          "data": {
            "text/plain": [
              "564"
            ]
          },
          "metadata": {},
          "execution_count": 25
        }
      ]
    },
    {
      "cell_type": "code",
      "source": [
        "def sum_columns(binary_arrays):\n",
        "    return [sum(col) for col in zip(*binary_arrays)]\n",
        "\n",
        "print(sum_columns(vals[filtered_indices]))\n",
        "print(sum_columns(vals))"
      ],
      "metadata": {
        "colab": {
          "base_uri": "https://localhost:8080/"
        },
        "id": "eGKUzqaN-rR-",
        "outputId": "ed15e33d-8b1b-4d80-929d-8e2edbe03152"
      },
      "execution_count": null,
      "outputs": [
        {
          "output_type": "stream",
          "name": "stdout",
          "text": [
            "[226, 198, 105, 353, 14, 42, 53, 43, 204, 169, 93, 219, 228, 7, 33, 14, 2, 207, 161, 37, 407, 378, 304, 217, 1, 264, 14, 212, 254, 71, 265, 139, 150, 233, 75, 71, 195, 380, 66, 136, 50, 152, 224, 114, 33, 93, 50, 184, 187, 150, 12, 50, 205, 106, 165, 63, 229, 19, 22, 87, 101, 27, 334, 246, 62, 265, 37, 228, 212, 324, 137, 91, 2, 58, 53, 178, 192, 55, 83, 120, 26, 16, 364, 171, 1, 203, 23, 350, 126, 31, 166, 82, 233, 23, 75, 40, 77, 159, 262, 12, 43, 87, 7, 63, 264, 177, 50, 38, 15, 291, 0, 16, 0, 40, 78, 40, 25, 60, 46, 78, 36, 88, 39, 83, 143, 13, 65, 34, 198, 69, 45, 99, 218, 59, 18, 197, 264, 6, 11, 85, 94, 60, 55, 24, 1, 47, 146, 7, 115, 170, 60, 93, 105, 57, 56, 137, 5, 237, 39, 115, 19, 170, 21, 191, 36, 3, 4, 81, 51, 107, 58, 36, 3, 38, 90, 14, 74, 10, 2, 88, 23, 29, 20, 29, 12, 91, 4, 15, 88, 253, 89, 14, 76, 36, 1, 253, 6, 175, 22, 13, 4, 125, 10, 54, 136, 16, 182, 51, 21, 52, 88, 87, 65, 145, 5, 4, 141, 17, 154, 17, 64, 50, 89, 131, 5, 38, 12, 43, 63, 41, 71, 19, 64, 2, 38, 4, 59, 1, 1, 2, 23, 34, 26, 3, 7, 43, 1, 10, 7, 14, 60, 21, 12, 16, 8, 39, 63, 15, 31, 3, 6, 28, 20, 41, 0, 21, 13, 39, 36, 1, 22, 8, 5, 12, 4, 64, 28, 49, 8, 112, 34, 19, 147, 47, 26, 162, 25, 46, 8, 50, 1, 40, 4, 15, 6, 21, 14, 1, 130, 39, 26, 22, 16, 114, 10, 2, 5, 8, 68, 1, 14, 1, 4, 9, 56, 9, 14, 9, 32, 39, 9, 6, 19, 33, 14, 26, 6, 43, 9, 67, 31, 4, 1, 7, 5, 8, 0, 11, 6, 10, 18, 119, 7, 17, 18, 1, 16, 2, 8, 18, 1, 3, 6, 14, 3, 15, 4, 3, 16, 13, 15, 55, 0, 2, 24, 11, 11, 7, 8, 3, 21, 59, 11, 5, 1, 26, 6, 17, 0, 8, 4, 0, 3, 3, 22, 1, 18, 14, 8, 9, 1, 13, 11, 1, 51, 11, 1, 0, 36, 0, 3, 0, 10, 2, 1, 23, 9, 16, 20, 6, 9, 0, 5, 20, 10, 37, 35, 9, 1, 2, 5, 23, 3, 16, 21, 3, 9, 16, 1, 12, 3, 11, 2, 16, 8, 25, 3, 4, 31, 16, 2, 2, 12, 1, 10, 4, 12, 3, 16, 6, 3, 5, 0, 9, 1, 31, 5, 2, 9, 6, 4, 9, 11, 4, 5, 1, 3, 6, 9, 17, 1, 10, 1, 29, 7, 1, 0, 32, 10, 4, 7, 2, 2, 24, 5, 5, 2, 4, 6, 9, 14, 5, 3, 3, 7, 14, 37, 8, 2, 4, 4, 3, 1, 4, 19, 2, 36, 6, 8, 1, 9, 2, 2, 0, 2, 20, 8, 5, 7, 3, 1, 3, 10, 9, 1, 24, 4, 3, 4, 5, 1, 13, 10, 0, 4, 14, 14, 1, 1, 1, 2, 1, 12, 5, 11, 4, 1, 17, 1, 8, 1, 2, 0, 2, 1, 11, 5, 12, 1, 0, 2, 8, 9, 2, 8, 24, 1, 6, 0, 4, 2, 1, 3, 4, 1, 0, 1, 0, 6, 3, 1, 1, 0, 3, 3, 3, 0, 0, 2, 2, 3, 0, 3, 3, 1, 4, 1, 1, 11, 8, 7, 1, 3, 2, 1, 1, 1, 5, 4, 10, 1, 2, 2, 2, 0, 3, 2, 1, 6, 3, 1, 0, 1, 3, 3, 2, 0, 1, 0, 3, 0, 8, 0, 1, 4, 0, 0, 17, 2, 1, 3, 7, 1, 2, 1, 1, 4, 0, 1, 3, 1, 5, 0, 2, 1, 2, 0, 1, 3, 0, 1, 2, 2, 1, 1, 1, 2, 2, 1, 2, 2, 1, 3, 3, 1, 0, 4, 6, 0, 1, 2, 1, 0, 1, 0, 5, 1, 1, 0, 1, 1, 0, 2, 3, 3, 0, 1, 1, 1, 2, 1, 3, 1, 4, 3, 1, 0, 2, 1, 2, 1, 1, 1, 3, 2, 0, 2, 4, 2, 0, 0, 1, 2, 4, 0, 0, 0, 1, 1, 1, 0, 3, 2, 1, 1, 2, 2, 3, 2, 1, 1, 0, 1, 1, 2, 0, 0, 2, 1, 1, 1, 1, 4, 1, 2, 3, 4, 1, 2, 0, 1, 3, 0, 0, 2, 1, 0, 3, 3, 3, 0, 3, 1, 0, 1, 3, 0, 4, 1, 1, 2, 1, 0, 1, 0, 1, 1, 5, 0, 0, 0, 2, 1, 1, 0, 0, 0, 1, 3, 1, 1, 1, 1, 3, 3, 2, 2, 2, 6, 0, 1, 0, 1, 1, 1, 0, 1, 1, 0, 0, 0, 3, 0, 1, 0, 2, 1, 1, 5, 0, 0, 0, 0, 0, 1, 0, 2, 1, 1, 1, 5, 0, 0, 1, 0, 1, 1, 0, 0, 0, 2, 0, 1, 1, 2, 1, 2, 0, 0, 0, 1, 2, 0, 0, 2, 1, 1, 0, 0, 0, 1, 3, 0, 1, 3, 1, 0, 1, 1, 0, 1, 2, 0, 0, 4, 0, 1, 0, 1, 0, 0, 2, 0, 0, 0, 0, 0, 0, 1, 1, 1, 1, 1, 0, 0, 2, 0, 1, 0, 0, 1, 0, 0, 0, 1, 0, 1, 1, 2, 0, 1, 1, 1, 0, 0, 1, 1, 1, 0, 1, 1, 0, 0, 0, 0, 1, 0, 1, 0, 0, 0, 0, 0, 1, 0, 0, 1, 0, 0, 1, 0, 0, 0, 0, 0, 1, 1, 0, 1, 1, 0, 1, 0, 0, 0]\n",
            "[455, 426, 205, 811, 38, 100, 123, 95, 442, 395, 179, 475, 456, 21, 78, 26, 5, 435, 306, 71, 919, 838, 642, 438, 1, 580, 39, 463, 555, 149, 578, 271, 312, 484, 148, 146, 427, 872, 137, 278, 110, 302, 481, 234, 83, 191, 92, 393, 380, 321, 21, 116, 465, 176, 346, 123, 457, 35, 52, 175, 188, 58, 733, 537, 136, 570, 73, 453, 420, 727, 263, 186, 2, 103, 122, 401, 371, 122, 156, 240, 49, 30, 839, 366, 5, 432, 44, 759, 251, 60, 341, 169, 485, 52, 164, 64, 134, 291, 566, 30, 85, 167, 9, 129, 580, 367, 105, 89, 28, 613, 1, 32, 0, 73, 134, 88, 41, 155, 92, 148, 79, 162, 71, 151, 293, 28, 145, 98, 425, 136, 94, 224, 449, 120, 33, 393, 539, 16, 26, 203, 185, 149, 112, 54, 1, 94, 283, 9, 236, 368, 126, 177, 214, 141, 111, 304, 23, 507, 72, 221, 40, 362, 43, 412, 70, 7, 14, 135, 99, 197, 106, 64, 6, 83, 185, 20, 148, 20, 4, 168, 42, 60, 41, 69, 30, 169, 9, 38, 181, 552, 185, 22, 139, 86, 4, 514, 16, 342, 38, 39, 11, 238, 24, 101, 295, 28, 374, 95, 36, 118, 192, 172, 120, 288, 10, 14, 290, 40, 313, 43, 129, 117, 180, 275, 13, 92, 20, 81, 163, 91, 139, 45, 122, 7, 92, 19, 122, 1, 4, 2, 38, 54, 47, 5, 17, 75, 1, 28, 11, 28, 132, 54, 18, 36, 22, 93, 116, 34, 62, 4, 10, 58, 54, 81, 0, 37, 23, 87, 68, 1, 41, 16, 14, 22, 17, 117, 61, 115, 30, 223, 76, 35, 277, 94, 58, 328, 58, 92, 16, 91, 3, 71, 14, 32, 11, 45, 21, 1, 266, 68, 54, 36, 49, 218, 21, 6, 11, 17, 121, 1, 28, 4, 6, 20, 140, 19, 40, 18, 66, 82, 18, 17, 39, 76, 31, 61, 10, 79, 22, 121, 60, 6, 1, 14, 10, 12, 0, 18, 11, 30, 47, 244, 25, 37, 37, 5, 29, 4, 20, 53, 2, 9, 13, 29, 3, 35, 8, 6, 33, 31, 23, 101, 1, 3, 54, 30, 27, 20, 13, 4, 49, 129, 30, 8, 3, 61, 10, 36, 1, 16, 12, 1, 6, 9, 43, 2, 29, 21, 15, 27, 5, 52, 23, 1, 106, 20, 9, 0, 71, 0, 3, 2, 25, 17, 2, 52, 19, 28, 48, 11, 23, 4, 6, 38, 27, 74, 72, 18, 3, 6, 8, 41, 10, 38, 49, 3, 22, 32, 4, 31, 8, 20, 4, 26, 13, 59, 4, 5, 65, 30, 11, 6, 22, 4, 28, 8, 19, 13, 25, 10, 5, 14, 1, 19, 5, 64, 8, 3, 19, 13, 10, 13, 33, 7, 11, 1, 8, 12, 17, 25, 4, 20, 3, 52, 17, 2, 2, 51, 18, 6, 10, 5, 7, 45, 7, 14, 2, 8, 14, 13, 23, 10, 5, 5, 12, 30, 60, 10, 7, 8, 9, 5, 5, 7, 43, 3, 77, 12, 17, 4, 13, 4, 4, 0, 6, 43, 16, 10, 10, 7, 4, 4, 20, 17, 1, 42, 6, 6, 5, 11, 1, 32, 28, 2, 11, 41, 29, 2, 1, 2, 3, 2, 23, 19, 26, 12, 4, 28, 3, 17, 1, 4, 0, 7, 1, 20, 11, 25, 9, 3, 2, 11, 22, 7, 19, 47, 1, 18, 2, 8, 3, 3, 12, 10, 1, 1, 5, 1, 11, 9, 1, 2, 3, 9, 10, 7, 1, 0, 3, 4, 10, 4, 5, 6, 3, 6, 3, 3, 17, 13, 16, 1, 7, 9, 2, 2, 3, 13, 9, 21, 2, 3, 3, 3, 3, 7, 2, 1, 11, 8, 3, 4, 6, 3, 3, 7, 2, 2, 0, 7, 3, 19, 2, 1, 6, 1, 6, 38, 9, 1, 8, 17, 4, 13, 3, 2, 7, 1, 2, 5, 2, 8, 1, 3, 2, 7, 2, 2, 6, 1, 2, 2, 6, 2, 3, 2, 3, 6, 9, 3, 4, 1, 7, 3, 6, 1, 6, 7, 2, 1, 3, 2, 1, 4, 1, 9, 1, 2, 0, 8, 4, 0, 8, 4, 3, 1, 3, 2, 2, 4, 3, 4, 3, 9, 3, 1, 2, 3, 3, 3, 2, 1, 1, 4, 4, 1, 3, 5, 3, 2, 1, 2, 5, 13, 3, 0, 0, 2, 1, 5, 1, 8, 6, 2, 3, 5, 3, 9, 8, 2, 1, 2, 4, 3, 2, 1, 1, 3, 3, 1, 3, 1, 9, 1, 4, 5, 4, 4, 5, 2, 2, 4, 1, 1, 3, 2, 1, 3, 9, 5, 1, 7, 2, 1, 2, 6, 1, 5, 1, 1, 3, 3, 1, 3, 1, 3, 1, 6, 0, 2, 3, 2, 3, 1, 0, 1, 0, 1, 7, 1, 1, 2, 1, 3, 5, 6, 3, 5, 9, 1, 1, 3, 1, 2, 2, 1, 2, 2, 1, 1, 1, 6, 0, 1, 1, 3, 3, 1, 7, 1, 3, 0, 0, 1, 2, 0, 7, 1, 2, 2, 6, 1, 0, 3, 1, 2, 2, 2, 1, 4, 3, 1, 2, 1, 2, 1, 3, 2, 1, 1, 1, 4, 0, 2, 2, 1, 1, 1, 2, 2, 1, 3, 1, 1, 3, 2, 1, 2, 1, 2, 2, 4, 1, 1, 6, 2, 1, 1, 1, 1, 0, 2, 0, 2, 1, 0, 1, 1, 2, 2, 1, 1, 1, 1, 1, 4, 1, 1, 0, 1, 1, 1, 1, 0, 1, 1, 2, 1, 3, 1, 1, 1, 1, 1, 1, 1, 1, 1, 1, 1, 1, 0, 1, 1, 1, 1, 1, 1, 1, 0, 1, 1, 1, 2, 1, 1, 1, 1, 1, 1, 0, 1, 1, 0, 0, 1, 1, 0, 1, 1, 1, 1, 1, 1, 1]\n"
          ]
        }
      ]
    },
    {
      "cell_type": "code",
      "source": [
        "vals"
      ],
      "metadata": {
        "colab": {
          "base_uri": "https://localhost:8080/"
        },
        "id": "ytsXWmrfSlEY",
        "outputId": "14633e3c-bd57-4254-ff9c-95754d49a9bb"
      },
      "execution_count": null,
      "outputs": [
        {
          "output_type": "execute_result",
          "data": {
            "text/plain": [
              "array([[1, 1, 0, ..., 0, 0, 0],\n",
              "       [0, 1, 0, ..., 0, 0, 0],\n",
              "       [0, 0, 1, ..., 0, 0, 0],\n",
              "       ...,\n",
              "       [1, 0, 0, ..., 0, 0, 0],\n",
              "       [1, 0, 0, ..., 0, 0, 0],\n",
              "       [0, 0, 0, ..., 0, 0, 0]])"
            ]
          },
          "metadata": {},
          "execution_count": 15
        }
      ]
    },
    {
      "cell_type": "code",
      "source": [
        "a = sum_columns(vals[filtered_indices])\n",
        "b = sum_columns(vals)\n",
        "np.where(np.array(a) == 0)"
      ],
      "metadata": {
        "colab": {
          "base_uri": "https://localhost:8080/"
        },
        "id": "o7p79j_NKIzI",
        "outputId": "e40df20d-9761-44ab-cab2-05e10106c2ed"
      },
      "execution_count": null,
      "outputs": [
        {
          "output_type": "execute_result",
          "data": {
            "text/plain": [
              "(array([110, 112, 264, 336, 362, 378, 381, 397, 399, 401, 411, 452, 476,\n",
              "        513, 533, 552, 559, 568, 575, 577, 582, 586, 587, 591, 614, 621,\n",
              "        626, 628, 630, 632, 635, 636, 647, 652, 656, 659, 675, 678, 682,\n",
              "        684, 688, 691, 695, 706, 715, 719, 720, 724, 725, 726, 730, 741,\n",
              "        745, 746, 759, 762, 763, 766, 770, 773, 776, 782, 784, 788, 789,\n",
              "        790, 794, 795, 796, 809, 811, 815, 818, 819, 820, 822, 824, 829,\n",
              "        830, 831, 832, 833, 835, 841, 842, 844, 847, 848, 849, 851, 857,\n",
              "        858, 859, 862, 863, 867, 868, 869, 872, 876, 879, 882, 883, 885,\n",
              "        887, 889, 890, 892, 893, 894, 895, 896, 897, 903, 904, 906, 908,\n",
              "        909, 911, 912, 913, 915, 919, 923, 924, 928, 931, 932, 933, 934,\n",
              "        936, 938, 939, 940, 941, 942, 944, 945, 947, 948, 950, 951, 952,\n",
              "        953, 954, 957, 960, 962, 963, 964]),)"
            ]
          },
          "metadata": {},
          "execution_count": 20
        }
      ]
    },
    {
      "cell_type": "code",
      "source": [
        "b.count(208)"
      ],
      "metadata": {
        "colab": {
          "base_uri": "https://localhost:8080/"
        },
        "id": "LpXzOdPeRDEE",
        "outputId": "96acabdf-3b6e-46a1-ab86-f75c77d18005"
      },
      "execution_count": null,
      "outputs": [
        {
          "output_type": "execute_result",
          "data": {
            "text/plain": [
              "0"
            ]
          },
          "metadata": {},
          "execution_count": 24
        }
      ]
    },
    {
      "cell_type": "code",
      "source": [],
      "metadata": {
        "id": "euWawZu8S2nH"
      },
      "execution_count": null,
      "outputs": []
    }
  ]
}